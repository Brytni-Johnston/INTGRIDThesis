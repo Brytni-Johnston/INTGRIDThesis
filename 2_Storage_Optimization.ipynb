{
 "cells": [
  {
   "cell_type": "code",
   "execution_count": 3,
   "metadata": {
    "scrolled": false
   },
   "outputs": [
    {
     "name": "stderr",
     "output_type": "stream",
     "text": [
      "INFO:pypsa.io:Imported network EU_Network_created_25102020.nc has buses, carriers, generators, lines, links, loads, storage_units\n"
     ]
    }
   ],
   "source": [
    "import numpy as np\n",
    "import pandas as pd\n",
    "import pypsa\n",
    "import pypsa.networkclustering as pync\n",
    "import datetime\n",
    "from six import iteritems\n",
    "import os \n",
    "import sys  \n",
    "\n",
    "file_name =  os.path.basename(sys.argv[0])\n",
    "directory = os.path.dirname(os.path.realpath(file_name))+'/Output'\n",
    "n_file = 'Output/' + [s for s in os.listdir(directory) if 'EU_Network_created' in s][0]\n",
    "\n",
    "#Load Network\n",
    "n = pypsa.Network()\n",
    "n.import_from_netcdf(n_file)"
   ]
  },
  {
   "cell_type": "code",
   "execution_count": 3,
   "metadata": {},
   "outputs": [],
   "source": [
    "#Temporal aggregation - reduce to one timestep every n hours\n",
    "hours = '120H'\n",
    "\n",
    "# code below borrowed from pypsa-eur prepare_network.py, average_every_nhours function\n",
    "m = n.copy(with_time=False)\n",
    "\n",
    "snapshot_weightings = n.snapshot_weightings.resample(hours).sum()\n",
    "m.set_snapshots(snapshot_weightings.index)\n",
    "m.snapshot_weightings = snapshot_weightings\n",
    "\n",
    "for c in n.iterate_components():\n",
    "    pnl = getattr(m, c.list_name+\"_t\")\n",
    "    for k, df in iteritems(c.pnl):\n",
    "        if not df.empty:\n",
    "            pnl[k] = df.resample(hours).mean()"
   ]
  },
  {
   "cell_type": "code",
   "execution_count": 4,
   "metadata": {},
   "outputs": [
    {
     "name": "stderr",
     "output_type": "stream",
     "text": [
      "INFO:numexpr.utils:NumExpr defaulting to 8 threads.\n",
      "INFO:pypsa.opf:Performed preliminary steps\n",
      "INFO:pypsa.opf:Building pyomo model using `kirchhoff` formulation\n",
      "INFO:pypsa.opf:Solving model using gurobi\n",
      "INFO:pypsa.opf:Optimization successful\n"
     ]
    },
    {
     "name": "stdout",
     "output_type": "stream",
     "text": [
      "# ==========================================================\n",
      "# = Solver Results                                         =\n",
      "# ==========================================================\n",
      "# ----------------------------------------------------------\n",
      "#   Problem Information\n",
      "# ----------------------------------------------------------\n",
      "Problem: \n",
      "- Name: x1632792_copy\n",
      "  Lower bound: 6857634121893.111\n",
      "  Upper bound: 6857634121893.111\n",
      "  Number of objectives: 1\n",
      "  Number of constraints: 1048062\n",
      "  Number of variables: 1632792\n",
      "  Number of binary variables: 0\n",
      "  Number of integer variables: 0\n",
      "  Number of continuous variables: 1632792\n",
      "  Number of nonzeros: 4557464\n",
      "  Sense: minimize\n",
      "# ----------------------------------------------------------\n",
      "#   Solver Information\n",
      "# ----------------------------------------------------------\n",
      "Solver: \n",
      "- Status: ok\n",
      "  Return code: 0\n",
      "  Message: Model was solved to optimality (subject to tolerances), and an optimal solution is available.\n",
      "  Termination condition: optimal\n",
      "  Termination message: Model was solved to optimality (subject to tolerances), and an optimal solution is available.\n",
      "  Wall time: 142834.01972603798\n",
      "  Error rc: 0\n",
      "  Time: 142845.12499070168\n",
      "# ----------------------------------------------------------\n",
      "#   Solution Information\n",
      "# ----------------------------------------------------------\n",
      "Solution: \n",
      "- number of solutions: 0\n",
      "  number of solutions displayed: 0\n"
     ]
    },
    {
     "data": {
      "text/plain": [
       "(<SolverStatus.ok: 'ok'>, <TerminationCondition.optimal: 'optimal'>)"
      ]
     },
     "execution_count": 4,
     "metadata": {},
     "output_type": "execute_result"
    }
   ],
   "source": [
    "#Solve network over all timesteps. WARNING: Takes 36-48 hours to solve\n",
    "print(datetime.datetime.now())\n",
    "m.lopf(solver_name='gurobi')\n",
    "print(datetime.datetime.now())\n",
    "\n",
    "m.export_to_netcdf('Output/storage_120H.nc')"
   ]
  },
  {
   "cell_type": "code",
   "execution_count": 10,
   "metadata": {},
   "outputs": [],
   "source": [
    "#Interpolate storage values between 120 hour mark and save as csv\n",
    "dates = pd.DataFrame(index=n.loads_t.p.index)\n",
    "m.storage_units_t.state_of_charge.index = m.storage_units_t.state_of_charge.index + pd.Timedelta('+119 hours')\n",
    "m.storage_units_t.state_of_charge = pd.concat([dates,m.storage_units_t.state_of_charge],axis=1)\n",
    "m.storage_units_t.state_of_charge = pd.concat([pd.DataFrame(m.storage_units_t.state_of_charge.iloc[-1]).T,m.storage_units_t.state_of_charge]).interpolate().iloc[1:]\n",
    "\n",
    "m.storage_units_t.state_of_charge.to_csv('Output/n_storage.csv')\n",
    "pd.read_csv('Output/n_storage.csv',index_col=0)"
   ]
  },
  {
   "cell_type": "code",
   "execution_count": null,
   "metadata": {},
   "outputs": [],
   "source": []
  }
 ],
 "metadata": {
  "kernelspec": {
   "display_name": "Python 3",
   "language": "python",
   "name": "python3"
  },
  "language_info": {
   "codemirror_mode": {
    "name": "ipython",
    "version": 3
   },
   "file_extension": ".py",
   "mimetype": "text/x-python",
   "name": "python",
   "nbconvert_exporter": "python",
   "pygments_lexer": "ipython3",
   "version": "3.7.3"
  }
 },
 "nbformat": 4,
 "nbformat_minor": 4
}
